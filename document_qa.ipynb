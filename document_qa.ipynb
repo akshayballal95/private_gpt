{
 "cells": [
  {
   "cell_type": "code",
   "execution_count": 5,
   "metadata": {},
   "outputs": [],
   "source": [
    "from langchain import ConversationChain,PromptTemplate\n",
    "import torch\n",
    "from youtube_transcript_api import YouTubeTranscriptApi\n",
    "from langchain.embeddings import HuggingFaceEmbeddings\n",
    "from langchain.indexes import  VectorstoreIndexCreator\n",
    "from langchain.document_loaders import TextLoader, DirectoryLoader\n",
    "from langchain.llms import GPT4All\n",
    "\n",
    "import os\n",
    "from langchain.memory import VectorStoreRetrieverMemory\n",
    "from langchain.callbacks import get_openai_callback\n",
    "\n",
    "import streamlit as st\n",
    "from streamlit_chat import message\n",
    "from dotenv import load_dotenv\n",
    "\n",
    "from langchain.callbacks.streaming_stdout import StreamingStdOutCallbackHandler\n"
   ]
  },
  {
   "cell_type": "code",
   "execution_count": 6,
   "metadata": {},
   "outputs": [
    {
     "name": "stderr",
     "output_type": "stream",
     "text": [
      "100%|██████████| 34/34 [00:00<00:00, 767.90it/s]\n"
     ]
    },
    {
     "data": {
      "text/plain": [
       "34"
      ]
     },
     "execution_count": 6,
     "metadata": {},
     "output_type": "execute_result"
    }
   ],
   "source": [
    "loader = DirectoryLoader('D:/OneDrive/Documents/Obsidian/Projects/myVault/', glob=\"**/*.md\",recursive=True, show_progress=True, use_multithreading=True, loader_cls=TextLoader)\n",
    "docs = loader.load()\n",
    "len(docs)"
   ]
  },
  {
   "cell_type": "code",
   "execution_count": 7,
   "metadata": {},
   "outputs": [],
   "source": [
    "embeddings = HuggingFaceEmbeddings(model_name=\"all-MiniLM-L6-v2\")\n"
   ]
  },
  {
   "cell_type": "code",
   "execution_count": 15,
   "metadata": {},
   "outputs": [
    {
     "name": "stdout",
     "output_type": "stream",
     "text": [
      "Found model file.\n"
     ]
    }
   ],
   "source": [
    "llm = GPT4All(model=\"./ggml-mpt-7b-instruct.bin\", top_p=0.92, top_k=0,  temp=0.5, repeat_penalty=1.1, n_threads=12, n_batch=16)"
   ]
  },
  {
   "cell_type": "code",
   "execution_count": 9,
   "metadata": {},
   "outputs": [
    {
     "name": "stderr",
     "output_type": "stream",
     "text": [
      "100%|██████████| 34/34 [00:00<00:00, 1888.68it/s]\n"
     ]
    }
   ],
   "source": [
    "index = VectorstoreIndexCreator(embedding=embeddings).from_loaders([loader])\n",
    "retriever = index.vectorstore.as_retriever(search_kwargs=dict(k=2))\n",
    "memory = VectorStoreRetrieverMemory(retriever=retriever)\n"
   ]
  },
  {
   "cell_type": "code",
   "execution_count": 10,
   "metadata": {},
   "outputs": [],
   "source": [
    "INSTRUCTION_KEY = \"### Instruction:\"\n",
    "RESPONSE_KEY = \"### Response:\"\n",
    "END_KEY = \"### End\"\n",
    "INTRO_BLURB = \"Below is an instruction that describes a task. Write a response that appropriately completes the request.\"\n",
    "TEMPLATE = \"\"\"{intro}\n",
    "{instruction_key}\n",
    "{instruction}\n",
    "{response_key}\n",
    "\"\"\".format(\n",
    "    intro=INTRO_BLURB,\n",
    "    instruction_key=INSTRUCTION_KEY,\n",
    "    instruction=\"{instruction}\",\n",
    "    response_key=RESPONSE_KEY,\n",
    ")"
   ]
  },
  {
   "cell_type": "code",
   "execution_count": 11,
   "metadata": {},
   "outputs": [],
   "source": [
    "_DEFAULT_TEMPLATE = \"\"\"\n",
    "Below is an instruction that describes a task. Write a response that appropriately completes the request.\n",
    "###Instruction: The following is a friendly conversation between a human and an AI. The AI is talkative and provides lots of specific details from its context. If the AI does not know the answer to a question, it truthfully says it does not know.\n",
    "Do not make up answers and provide only information that you have.\n",
    "Relevant pieces of previous conversation:\n",
    "{history}\n",
    "\n",
    "(You do not need to use these pieces of information if not relevant)\n",
    "{input}\n",
    "\n",
    "### Response:\n",
    "\"\"\""
   ]
  },
  {
   "cell_type": "code",
   "execution_count": 12,
   "metadata": {},
   "outputs": [],
   "source": [
    "PROMPT = PromptTemplate(\n",
    "    input_variables=[ \"history\", \"input\"], template=_DEFAULT_TEMPLATE\n",
    ")\n"
   ]
  },
  {
   "cell_type": "code",
   "execution_count": 17,
   "metadata": {},
   "outputs": [
    {
     "name": "stdout",
     "output_type": "stream",
     "text": [
      "\n",
      "\n",
      "\u001b[1m> Entering new ConversationChain chain...\u001b[0m\n",
      "Prompt after formatting:\n",
      "\u001b[32;1m\u001b[1;3m\n",
      "Below is an instruction that describes a task. Write a response that appropriately completes the request.\n",
      "###Instruction: The following is a friendly conversation between a human and an AI. The AI is talkative and provides lots of specific details from its context. If the AI does not know the answer to a question, it truthfully says it does not know.\n",
      "Do not make up answers and provide only information that you have.\n",
      "Relevant pieces of previous conversation:\n",
      "input: what are my social media handles\n",
      "response: `ris:Facebook`: [https://www.facebook.com/arbaballa](https:// www.facebook.com/arbaBallaL/)`ris:Linkedin`: https://www.linkedi n. com/in/akshay-balla l/`ris:GitHub`:  https://github.com/akshayballal95`ris:Twitter`: @aksheybalal95\n",
      "input: what are my social media handles\n",
      "response: ris:Facebook`: [https://www.facebook. com/arbaballa](https:// www.facebook.\n",
      "\n",
      "(You do not need to use these pieces of information if not relevant)\n",
      "what are my social media handles\n",
      "\n",
      "### Response:\n",
      "\u001b[0m\n",
      "ris:Facebook`: [https://www.facebook.com/arbaballa l/](https:// www.faceb\n",
      "\n",
      "\u001b[1m> Finished chain.\u001b[0m\n"
     ]
    }
   ],
   "source": [
    "import torch\n",
    "\n",
    "\n",
    "conversation_with_summary = ConversationChain(\n",
    "    llm=llm, \n",
    "    prompt=PROMPT,\n",
    "    # We set a very low max_token_limit for the purposes of testing.\n",
    "    memory = memory,\n",
    "    verbose=True\n",
    "    )\n",
    "\n",
    "\n",
    "with torch.inference_mode():\n",
    "\n",
    "   conversation_with_summary.predict(input = \"what are my social media handles\")"
   ]
  }
 ],
 "metadata": {
  "kernelspec": {
   "display_name": "langchain",
   "language": "python",
   "name": "python3"
  },
  "language_info": {
   "codemirror_mode": {
    "name": "ipython",
    "version": 3
   },
   "file_extension": ".py",
   "mimetype": "text/x-python",
   "name": "python",
   "nbconvert_exporter": "python",
   "pygments_lexer": "ipython3",
   "version": "3.11.3"
  },
  "orig_nbformat": 4
 },
 "nbformat": 4,
 "nbformat_minor": 2
}
