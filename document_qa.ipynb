{
 "cells": [
  {
   "cell_type": "code",
   "execution_count": 7,
   "metadata": {},
   "outputs": [],
   "source": [
    "!pip install -qU langchain tiktoken gpt4all streamlit-chat einops transformers accelerate "
   ]
  },
  {
   "attachments": {},
   "cell_type": "markdown",
   "metadata": {},
   "source": [
    "## Import all dependencies"
   ]
  },
  {
   "cell_type": "code",
   "execution_count": 8,
   "metadata": {},
   "outputs": [],
   "source": [
    "from langchain import ConversationChain,PromptTemplate\n",
    "from youtube_transcript_api import YouTubeTranscriptApi\n",
    "from langchain.embeddings import HuggingFaceEmbeddings\n",
    "from langchain.indexes import  VectorstoreIndexCreator\n",
    "from langchain.document_loaders import TextLoader, DirectoryLoader\n",
    "from langchain.llms import GPT4All\n",
    "\n",
    "from langchain.memory import VectorStoreRetrieverMemory\n",
    "\n",
    "import streamlit as st\n",
    "from streamlit_chat import message\n"
   ]
  },
  {
   "attachments": {},
   "cell_type": "markdown",
   "metadata": {},
   "source": [
    "Create `loader` which loads the files from the obsidian vault. After that we run `loader.load()` to just check how many files were loaded. "
   ]
  },
  {
   "cell_type": "code",
   "execution_count": 9,
   "metadata": {},
   "outputs": [
    {
     "name": "stderr",
     "output_type": "stream",
     "text": [
      "100%|██████████| 35/35 [00:00<00:00, 4375.45it/s]\n"
     ]
    },
    {
     "data": {
      "text/plain": [
       "35"
      ]
     },
     "execution_count": 9,
     "metadata": {},
     "output_type": "execute_result"
    }
   ],
   "source": [
    "loader = DirectoryLoader('D:/OneDrive/Documents/Obsidian/Projects/myVault/', glob=\"**/*.md\",recursive=True, show_progress=True, use_multithreading=True, loader_cls=TextLoader)\n",
    "docs = loader.load()\n",
    "len(docs)"
   ]
  },
  {
   "attachments": {},
   "cell_type": "markdown",
   "metadata": {},
   "source": [
    "Create `embeddings` using the Hugging Face hosted `sentence-transformers/all-mpnet-base-v2`"
   ]
  },
  {
   "cell_type": "code",
   "execution_count": 10,
   "metadata": {},
   "outputs": [
    {
     "name": "stdout",
     "output_type": "stream",
     "text": [
      "Found model file.\n"
     ]
    }
   ],
   "source": [
    "embeddings = HuggingFaceEmbeddings(model_name=\"all-mpnet-base-v2\")\n",
    "llm = GPT4All(model=\"./ggml-mpt-7b-instruct.bin\", top_p=0.5, top_k=0,  temp=0.5, repeat_penalty=1.1, n_threads=12, n_batch=16)"
   ]
  },
  {
   "attachments": {},
   "cell_type": "markdown",
   "metadata": {},
   "source": [
    "Create a vector database using the `VectorStoreIndexCreator`."
   ]
  },
  {
   "cell_type": "code",
   "execution_count": 11,
   "metadata": {},
   "outputs": [
    {
     "name": "stderr",
     "output_type": "stream",
     "text": [
      "100%|██████████| 35/35 [00:00<00:00, 4997.98it/s]\n"
     ]
    }
   ],
   "source": [
    "index = VectorstoreIndexCreator(embedding=embeddings).from_loaders([loader])\n",
    "retriever = index.vectorstore.as_retriever(search_kwargs=dict(k=2))\n",
    "memory = VectorStoreRetrieverMemory(retriever=retriever)\n"
   ]
  },
  {
   "attachments": {},
   "cell_type": "markdown",
   "metadata": {},
   "source": [
    "### MPT-7B Instruct model was trained on data formatted in the dolly-15k format like shown:"
   ]
  },
  {
   "cell_type": "code",
   "execution_count": 13,
   "metadata": {},
   "outputs": [],
   "source": [
    "_DEFAULT_TEMPLATE = \"\"\"\n",
    "Below is an instruction that describes a task. Write a response that appropriately completes the request.\n",
    "###Instruction: The following is a friendly conversation between a human and an AI. The AI is talkative and provides lots of specific details from its context. If the AI does not know the answer to a question, it truthfully says it does not know.\n",
    "Do not make up answers and provide only information that you have.\n",
    "Relevant pieces of previous conversation:\n",
    "{history}\n",
    "\n",
    "(You do not need to use these pieces of information if not relevant)\n",
    "{input}\n",
    "\n",
    "### Response:\n",
    "\"\"\""
   ]
  },
  {
   "cell_type": "code",
   "execution_count": 14,
   "metadata": {},
   "outputs": [],
   "source": [
    "PROMPT = PromptTemplate(\n",
    "    input_variables=[ \"history\", \"input\"], template=_DEFAULT_TEMPLATE\n",
    ")\n",
    "\n",
    "conversation_with_summary = ConversationChain(\n",
    "    llm=llm, \n",
    "    prompt=PROMPT,\n",
    "    # We set a very low max_token_limit for the purposes of testing.\n",
    "    memory = memory,\n",
    "    verbose=True\n",
    "    )\n",
    "\n",
    "\n",
    "with torch.inference_mode():\n",
    "\n",
    "   conversation_with_summary.predict(input = \"give me more details\")\n"
   ]
  },
  {
   "cell_type": "code",
   "execution_count": 15,
   "metadata": {},
   "outputs": [
    {
     "name": "stdout",
     "output_type": "stream",
     "text": [
      "\n",
      "\n",
      "\u001b[1m> Entering new ConversationChain chain...\u001b[0m\n",
      "Prompt after formatting:\n",
      "\u001b[32;1m\u001b[1;3m\n",
      "Below is an instruction that describes a task. Write a response that appropriately completes the request.\n",
      "###Instruction: The following is a friendly conversation between a human and an AI. The AI is talkative and provides lots of specific details from its context. If the AI does not know the answer to a question, it truthfully says it does not know.\n",
      "Do not make up answers and provide only information that you have.\n",
      "Relevant pieces of previous conversation:\n",
      "![https://res.cloudinary.com/dltwftrgc/image/upload/v1683657527/Blogs/How%20to%20Build%20an%20AI-Powered%20Game%20Bot%20with%20PyTorch%20and%20EfficientNet/efficientnet_xqnfot.png](https://res.cloudinary.com/dltwftrgc/image/upload/v1683657527/Blogs/AI_powered_game_bot/efficientnet_xqnfot.png)\n",
      "\n",
      "```python\n",
      "device = \"cuda\" if torch.cuda.is_available() else \"cpu\"\n",
      "model = torchvision.models.efficientnet_v2_s()\n",
      "model.classifier = torch.nn.Linear(in_features = 1280, out_features = 2)\n",
      "\n",
      "model = model.to(device)\n",
      "criterion = torch.nn.CrossEntropyLoss()\n",
      "optimizer = optim.SGD(model.parameters(), lr=0.01, momentum=0.009)\n",
      "```\n",
      "|**Train for longer**|Sometimes a model just needs more time to learn representations of data. If you find in your smaller experiments your model isn't learning anything, perhaps leaving it train for a more epochs may result in better performance.|\n",
      "|**Use less regularization**|Perhaps your model is underfitting because you're trying to prevent overfitting too much. Holding back on regularization techniques can help your model fit the data better.|\n",
      "\n",
      "(You do not need to use these pieces of information if not relevant)\n",
      "give me more details\n",
      "\n",
      "### Response:\n",
      "\u001b[0m\n",
      "\n",
      "\n",
      "\u001b[1m> Finished chain.\u001b[0m\n"
     ]
    }
   ],
   "source": []
  },
  {
   "cell_type": "code",
   "execution_count": null,
   "metadata": {},
   "outputs": [],
   "source": []
  }
 ],
 "metadata": {
  "kernelspec": {
   "display_name": "langchain",
   "language": "python",
   "name": "python3"
  },
  "language_info": {
   "codemirror_mode": {
    "name": "ipython",
    "version": 3
   },
   "file_extension": ".py",
   "mimetype": "text/x-python",
   "name": "python",
   "nbconvert_exporter": "python",
   "pygments_lexer": "ipython3",
   "version": "3.11.3"
  },
  "orig_nbformat": 4
 },
 "nbformat": 4,
 "nbformat_minor": 2
}
