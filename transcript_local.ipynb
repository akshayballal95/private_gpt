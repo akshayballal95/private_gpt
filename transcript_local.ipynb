{
 "cells": [
  {
   "cell_type": "code",
   "execution_count": 1,
   "metadata": {},
   "outputs": [],
   "source": [
    "from youtube_transcript_api import YouTubeTranscriptApi\n",
    "from langchain.embeddings import HuggingFaceEmbeddings\n",
    "from langchain.indexes import  VectorstoreIndexCreator\n",
    "from langchain.document_loaders import TextLoader, DirectoryLoader\n",
    "from langchain.llms import OpenAI\n",
    "from langchain.memory import VectorStoreRetrieverMemory\n",
    "from langchain.llms import GPT4All\n",
    "from langchain import ConversationChain, PromptTemplate\n",
    "import os"
   ]
  },
  {
   "cell_type": "code",
   "execution_count": 2,
   "metadata": {},
   "outputs": [
    {
     "name": "stdout",
     "output_type": "stream",
     "text": [
      "Directory already exists\n"
     ]
    }
   ],
   "source": [
    "video_links = [\"9lVj_DZm36c\", \"ZUN3AFNiEgc\", \"8KtDLu4a-EM\"]\n",
    "\n",
    "if os.path.exists('transcripts'):\n",
    "    print('Directory already exists')\n",
    "else:\n",
    "    os.mkdir('transcripts')\n",
    "for video_id in video_links:\n",
    "    dir = os.path.join('transcripts', video_id)\n",
    "    transcript = YouTubeTranscriptApi.get_transcript(video_id)\n",
    "\n",
    "    with open(dir+'.txt', 'w') as f:\n",
    "     for line in transcript:\n",
    "            f.write(f\"{line['text']}\\n\")\n",
    "\n"
   ]
  },
  {
   "cell_type": "code",
   "execution_count": 3,
   "metadata": {},
   "outputs": [
    {
     "name": "stderr",
     "output_type": "stream",
     "text": [
      "100%|██████████| 3/3 [00:00<00:00, 198.20it/s]\n"
     ]
    },
    {
     "data": {
      "text/plain": [
       "[Document(page_content=\"so i'm really having this 14-inch laptop\\nspace because there are some really good\\nproducts on the market right now the\\nmacbook pro 14 if you want something\\nthat's catered towards creators and\\ndesigners there's the blade 14 the g14\\nboth amazing gaming laptops there's also\\nthe x14 by alienware but we don't touch\\nthat one it's no bueno compared to these\\ntwo if we're talking about design and\\nbuild quality personally i think the\\nblade 14 is built better like this is\\nentirely aluminum even on the bottom it\\njust feels super solid compared to the\\ng14 you have plastic bits on the bottom\\nwhich takes away from the appeal don't\\nget me wrong it still feels very premium\\nbut there's just this allure to the\\nblade 14 that the g14 doesn't have they\\nboth weigh about the same slightly\\nheavier with the blade but the g14 is a\\nbit thicker and because it's using that\\n16 by 10 aspect ratio the laptop itself\\nis deeper now to me the little things\\nare important and one thing you'll\\nnotice if you have both laptops is that\\nthe hinge on the blade 14 is way tighter\\nlike it just feels\\nnice and strong you open up the display\\nthere's very little wobble to it whereas\\nthe g14 tends to wobble a bit more it's\\nnot bad it's not a major concern but\\nthere's a difference between these two\\nlaptops the other thing is when you\\nclose it and again this is a little\\nthing not a big deal to most but when\\nyou close the g14\\nthis is what it sounds like when you\\nclose the blade 14\\nthat's what it sounds like it really\\nreminds me of how you close a macbook\\npro and the sound of it is less than\\nmost other laptops again stupid because\\nyou can simply just close your laptop\\nvery slowly and never hear it but some\\nof you out there are pretty aggressive\\nwhen you close the displays and the\\nblade 14 does sound quieter ports are\\nalmost identical they both have two\\nusb-a ports two usb type-c ports hdmi\\n2.1 ports you have the audio jack the\\nonly difference is that the g14 comes\\nwith a micro sd card slot if you want to\\ninsert external storage the other thing\\ni prefer with the blade is that the\\nports are at the back\\nside of the laptop\\ncompared to the front side of the laptop\\nlike they have on the g14 their vents\\nhappen to be at the back so\\ncables are going to be closer to you\\nrather than further away ideally in the\\nperfect world i'd love to have all the\\nports on the back but it's obviously not\\ncapable with this style of design but\\nthe one area that the g14 starts to win\\nout on is ergonomics for one it uses the\\nergo hinge so airflow is better two it\\nhas a better keyboard like typing on\\nthis guy\\nah asus is doing such a great job with\\ntheir keyboards they just feel so\\ncomfortable to type on big keycaps the\\nblade 14 don't get me wrong it's it's a\\ngood typing experience it's just not my\\nfavorite the one thing that the blade 14\\ndoes better though is rgb the perky rgb\\non this guy way better than the rgb on\\nthe g14 it's just hard to see on the\\nwhite model and because the font they're\\nusing it just doesn't light up as bright\\neven on the darker version also if you\\ndo decide to go on the white model i\\nstill suggest you go black there's a\\ngreen tint on the keys and it's not the\\nsame color or same paint job as the deck\\nof the keyboard even though both laptops\\nhave forward-facing speakers and i do\\nappreciate\\nthe laser cut design they're now using\\non the blade they just sound better on\\nthe g14 they get louder they have more\\nbass there's more depth to the sound\\neven with thx enabled and spatial audio\\nand all that stuff on the blade the\\nsound quality is just very flat like it\\njust doesn't sound that great they both\\nhave webcams the blade got updated to\\n1080p they both support windows hello\\n720p on the g14 but quite frankly they\\nboth still look pretty awful so here's\\nanother example of the hinge if i tilt\\nthese displays back\\nthe razer blade is going to stay whereas\\nthe g14 won't because the hinge on it is\\nnot nearly as strong as the blade again\\nnot a big deal but i still want to point\\nit out the displays themselves are both\\nqhd or qhd plus with the g14 they both\\nhave identical color gamut but the g14\\ndoes get brighter so if you're working\\noutdoors a lot you're probably going to\\nprefer the g14 display a bit more now\\nperformance is what you guys really came\\nhere for because they're kind of similar\\nin some ways but different when it comes\\nto the gpu you buy the g14 you're\\ngetting the rx 6800s you're buying the\\nblade 14 you can top it up to a 3080 ti\\nmy model here only has a 3070 ti so\\ngpuis it's technically not fair but\\nyou'll see that this 3070 ti performs\\nvery well compared to the 6800 s now cp\\nperformance is interesting because this\\nis using the 6900 hx and you'd expect\\nthat to run faster since it's\\ntechnically an unlocked cpu which can\\nhave more power pushed to it compared to\\nthe hs that's inside of the g14 but with\\nmulti-core speeds the g14 was faster and\\nsame holds true with single core clock\\nspeeds if you are doing anything that\\nremotely involves creative work it\\nreally comes down to the specific\\napplication you're using with photoshop\\nand\\nafter effects this 6800 s outperformed\\n3070 ti i'd imagine the 3080ti would\\npush back\\nif you're talking about adobe premiere\\npro\\nthen the blade 14 performed better than\\nthe g14 i also did a davinci resolve\\ntest because i personally used davinci\\nresolve i stopped using premiere a long\\ntime ago and the blade of 14 slightly\\noutperforms the g14 but the difference\\nis negligible now because asus pushes\\ntheir cpus a little bit hotter for\\nlonger the mozilla firefox compile test\\nwas seven minutes faster on the g14\\ncompared to the blade 14. so if you're a\\ndeveloper because of that 16 by 10\\ndisplay and the faster clock speeds this\\nwill give you better compile times but\\nif you're using blender don't even look\\ndon't even look at a laptop with an amd\\ngpu so the tgp of both gaming laptops\\nare almost identical the 6800s runs up\\nto 105 watts compared to 100 watts with\\nthe rtx 3070 ti power bricks are\\npretty much identical in size the blades\\npower brick is a little bit taller\\nwhereas the asus version is a tiny bit\\nwider this is a 240 watt power brick\\ncompared to 230 watts now if you're\\ngaming at 1920 by 1200 or 1920 by 1080\\non the blade the 6800 s does beat out\\nthe 3070 ti i don't think it'd be out\\nthe 3080 ti but it does beat out the\\n3070 ti due to the faster single core\\nclock speeds and of course it can push\\nthose cpu speeds higher for longer\\nbecause that's just the way this thing\\nis tuned but as soon as you switch it to\\nqhd okay which i imagine most of you\\nwill be gaming at qhd since these are\\nqhd displays the 3070 ti outperforms the\\n6800 s so thermals are where things get\\nvery interesting the g14 tends to run a\\nbit hotter and with that you do get\\nbetter performance whereas the blade 14\\nis more conservative it doesn't like\\nbeing in the 90s for too long it'll drop\\ndown into the 80s and with that you get\\na cooler experience there's some\\nadvantages and disadvantages to this the\\ng14 will always be the better performer\\nin terms of the cpu like this is an hs\\nprocessor beating out an hx processor\\nbut longevity wise i feel like the blade\\n14 has the advantage because it's taking\\nthe safe approach you also get way\\nquieter fans with the blade 14. i know\\nit doesn't look like it's way quieter in\\nthis graph but trust me every decibel\\nmakes a difference on your ears and the\\nblade 14 does a better job with it now\\nboth laptops have a muck switch but it\\ndoes require a restart if you're\\nswitching between the integrated and\\ndedicated gpu vapor chamber coolers\\nbigger on the blade but i do appreciate\\nthe little details that asus is doing\\nwith the design\\nswappable nvme ssds but the read and\\nwrite speeds are way better on the blade\\nthis is not a gen 4 drive and if it is\\nit's a very slow one ram soldered onto\\nthe motherboard the most you can get\\nwith the blade is 16 gigabytes the g14\\neither has 8 or 16 soldered on depending\\non the model you buy but you do get one\\nslot that is upgradable so my model has\\n32. battery life way better on the g14\\nit's just a bigger battery 76 watt hours\\ncompared to 61\\nunder 10 hours compared to under six so\\nhere's the thing i really love the blade\\n14. i personally think it has a better\\ndesign build quality and look\\nbut the thing that's giving me a tough\\ntime recommending it right now is the\\nprice difference between both of these\\nlaptops like this is a 2600\\nlaptop with a 3070 ti compared to the\\ng14 that has the 6800s the fastest gpu\\nthey offer for it that costs 18.99 if it\\nwas to come with 16 gigabytes of ram\\nthat's an 800\\ndifference i don't think the blade 14\\nwith its soldered on memory and worse\\nbattery life is worth 800 more if i had\\nto choose between these two and i was\\nsomeone who traveled a lot but also\\nloved to game and i wanted really good\\nbattery life it's a no-brainer it's the\\ng14\\nif things were more equal in price then\\ni could suggest the blade 14 for certain\\nsituations maybe if all you were doing\\nis gaming maybe if you were gaming and\\ndoing a bit of 3d work then the nvidia\\ncards make a lot more sense and with\\nthat you get better fan noise but as of\\nright now because the price difference\\nit's a no-brainer the g14 makes a lot\\nmore sense today i hope that answered\\nall of your questions if you have any\\nmore let me know in the comment section\\ndown below like the video if you liked\\nit subscribe if you haven't already and\\ni'll see you guys in the next one\\n[Music]\\n\", metadata={'source': 'transcripts\\\\8KtDLu4a-EM.txt'}),\n",
       " Document(page_content=\"all right guys hardest part of the video\\nwe're getting it right out right out of\\nthe gate i need to say the name of this\\nlaptop correctly this sponsored by\\nlenovo of course\\nis the lenovo slim 7i pro x not the yoga\\nit is in europe but not here\\nthe charger that we get is a hundred\\nwatts over usb type-c really like to see\\nit i thought at first when i saw that it\\nwas yellow it was lenovo's little\\nproprietary charger which also in\\nfairness is pretty good all right what\\nelse do we have in here\\nit says yoga rate on it\\nthe good news is it's a good feeling\\nlaptop having a look at the i o here you\\nget two thunderbolt 4 ports and you\\nmight want to use those for display as\\nwell because the hdmi we have right here\\nis only 2.0 not 2.1 so if you're hooking\\nup to 4k display and just use\\nthunderbolts over on the other side we\\nhave a full size usb type a headphone\\nmicrophone combo and oh a little webcam\\ndisabled i'd like to see that overall\\nthough this is um a very laptop looking\\nlaptop what i am impressed with though\\nis the overall chassis rigid you can see\\nsome like\\nmacro flexing here but that's the sort\\nof thing that like when the whole deck\\nas one piece flexes you don't\\nnecessarily get in the keys like yeah if\\nyou look at the keys\\nthere's no deflection it's just if i'm\\nlike really pushing it\\nokay the keyboard is great we also have\\nexcellent key stabilization so you can\\nsee here like if i push on the side of\\nthe key the whole key goes down instead\\nof just like the corner going down\\nthat's the sort of thing that allows you\\nto have just a really fast typing\\nexperience not have to kind of make sure\\nthat you're hitting the keys as opposed\\nto just hitting the keys now as well as\\nhaving a fantastic keyboard it's also\\nnot the laptop we're supposed to be\\nlooking at make sense uh this one's the\\ngray this one right here is the teal\\nalso this one does not say yoga right\\nhere just says lenovo what i find\\ninteresting though is that the displays\\nare not the same on paper they're the\\nsame but in\\nreal life they obviously are not now\\nthey both are 120 hertz panel they also\\nhave a color calibrated from the factory\\ni think it's what delta e of less than\\none that is mangled good so you can\\ndefinitely use this for your lightroom\\nor video editing or what you have you\\njust what i don't get is that the us\\nmodel is glossy and the european appears\\nto be matte the glossy one\\nclearly has just nicer more vibrant\\ncolors like the blacks look darker the\\ncolors just look a little bit more\\ncolorful but at the same time i can see\\nmy face in it if i want to whereas the\\nmac display does an exceptional job of\\nnot showing me all the crap that's\\naround me but at the same time you know\\nit's just a little bit more washed up\\nespecially with their great big light\\nthat's above my head you don't think any\\nof them are touch well\\ni think you're wrong\\nwait what this one not touch for\\nwhatever reason\\nthe one with the matte display does not\\nhave touch and the one with the glossy\\nscreen does have touch so before i was\\nkind of leaning towards the matte\\ndisplay because you know that's nice\\ntouch is way better i absolutely love\\ntouching a laptop especially one that's\\ndisliked how much does this thing weigh\\nstarts at 3.2 pounds damn that's really\\ngood\\nnow 3.2 pounds might not sound like the\\nlightest thing ever there's much lighter\\nlaptops out there the reason that's\\nimpressive is because of the specs of\\nthis thing oh damn that is really\\nimpressive we have an intel i7 12700h\\nnot even the p they just give you the\\nfull fat 14 core 20 thread monster damn\\nthis thing has 32 gigabytes of ram at\\n1600 megahertz ddr5 okay i'm\\nlegitimately impressed right now i\\ndidn't look at this before i assumed it\\nwas like a p series we also have one\\nterabyte ssd intel wi-fi 6e iris xc\\ngraphics of course\\nbut you'll never use those because it\\nalso has an rtx 3050. okay this one's a\\nbit more reasonable\\n16 gigabytes of ram\\n1650 but it also still gets the 12700h\\nfor that massive cpu compute also just\\nwant to mention that these are both on\\nthe intel evo platform so that basically\\njust means that it gets what more than\\nnine hours of battery life starts from\\nsleep really fast boots up super fast\\none other kind of awkward thing is that\\nit expressly states that we have to show\\nyou the intel evo badge cover up the\\nother badging there we go intel evo we\\nnow get to do our startup test it should\\nbe real fast because it's on the evil\\nplatform\\nand it is there we go we're in all right\\nnow i'm kind of very legitimately\\nconcerned about having a processor\\nthat's that powerful in a chassis that\\nis this small\\nit's going to thermal throttle it's\\nalready thermal throttling uh cpu\\npackage right now it's at 86 degrees\\nhere we go we're starting our cinebench\\nrun this right here isn't like a single\\none and done run to get a high score\\nthis is just a it's running for 10\\nminutes sort of thing so we can find out\\nwhat we're dealing with here\\ncpu is at 94 95 degrees now if we open\\nup\\nlenovo's little vantage software here\\npower and performance actually i'm just\\ngoing to chuck it right into extreme\\nperformance mode there we go it looks\\nlike that we're at 95 degrees celsius on\\nthe cpu that's like perfectly fine what\\nyou have to realize is that the on\\nmodern cpus they don't care if they're\\nrunning at 100 degrees the whole time if\\nyou want in the bios you can set it to\\ngo to 115 and it still will be perfectly\\nfine and our cpu\\nshe's struggling now you might see that\\nthis is\\nyou know for one it's pretty loud at the\\nmoment and also like it isn't going all\\nthat fast it seems like we're doing all\\ncore 2.4 gigahertz which sounds kind of\\nslow\\nbut we just need to put that into\\ncontext for a second here this was able\\nto manage a bit over 11 000 points in\\ncinebench r23 for comparison um an i9\\n9900\\nthat was a 5 gigahertz 8 core processor\\nfrom just a couple generations ago on a\\ndesktop that's comparable to like a\\nryzen 5 5600 x it's a very competent\\nlittle machine now let's try and just\\nget a proper score we'll turn off you\\nknow obs here stop recording we'll give\\nit a second to cool down maybe even i'll\\npop prop it up i think it'll love that\\ndamn\\nall right turns out you know screen\\nrecording at the same time uses up some\\nresources this thing was able to do 13\\n576 in cinebench that is freaking great\\nfor\\nlike look at this thing it's so slim how\\ndid they do that\\ni am genuinely impressed with this\\nlaptop now i don't want to mention this\\ntape definitely helped us out that\\nprobably i don't know got us five maybe\\neven 10 more watts on the processor oh\\nwe haven't even talked about the\\ntrackpad the trackpad is great it's big\\nit's glass topped it's nice to use it's\\na good trackpad all right thank you eu\\nversion of the laptop you've served us\\nwell but you're not as fast as our north\\namerican one\\nthe number one game in the world\\naccording to me\\nmalham\\nmedium settings large 1080p we're\\nlooking at what 30 fps okay we can do\\nbetter than that i think extreme\\nperformance there we go yep that got us\\n20 fps fantastic this is a fantastic\\nscreen for playing games on like 3k\\nexcellent also having the 120 hertz even\\nthough we're only getting 60 fps in this\\ngame makes everything so much more\\nresponsive\\neven has g-sync it's basically a gaming\\nlaptop but you don't have to like have\\nit be so heavy it is getting a little\\nbit hot up here well we'll play this\\nuntil i die oh i'm so dead\\noh do you see that dodge roll i died all\\nright well that's enough valheim for\\nthis evening\\nthat was not a laptop issue that was\\npurely a skill issue uh what else oh\\ncrabrif grab rave almost open it up too\\nfast let's have a gander at that\\nhow many this is it 400\\nwell the speakers are fine we want to\\njust be clear here it's not incredible\\ncompared to some of the top-end laptops\\nbut if you're comparing it to a laptop\\nfrom a couple years ago it's the same as\\nthe best ones that existed then it's\\nthis large you can only make your\\nspeakers so good this is our webcam\\nright here i feel like if you took the\\ntime to set up the lighting this camera\\ncould be quite good i'm really blown out\\nkind of right in\\nmy forehead and stuff it's kind of weird\\nyeah it's a very challenging scene i\\nwant to be clear and once i turn it into\\nthe pure camera mode it seems to figure\\nit out like this is really good i'll\\njust take photo another one i'll smile\\nfor this one it exposed perfectly for my\\nface for the photo okay we're gonna go\\nfor a little tour here mr laptop okay\\nthis is still a very challenging scene\\nbut it's doing slightly better\\nbut we have so many lights and stuff\\nokay\\ni'm sorry andy one second\\nit's it's still\\nnot quite exposing\\ncorrectly the webcam i would say if you\\nput in the work it's going to be really\\ngood if you have kind of a weird scene\\nlike we have here it's gonna struggle\\nthat said for a zoom call like it's more\\nthan good enough when there's hello\\nfacial recognition it has it it's my\\nfavorite way to get into a computer it\\njust works great you open it up and then\\nyou get logged in love it now what we\\nget to do is take it apart\\nall right let's see how repairable she\\nis\\nokay okay well in here we get a 70 watt\\nhour battery they say it'll get you 13\\nhours of battery life and more like 9\\nunder load one thing i want to just have\\na chat about for a second is windows\\nmodern standby i'm gonna bring it up in\\nevery single short circuit from now on\\nuntil it's fixed uh lenovo go to\\nmicrosoft and just kick them in the nuts\\nit's one of the worst things they've\\ndone in years and so every single laptop\\nincluding this one will do just this\\nreally annoying thing where for the most\\npart it's fine and the battery lasts and\\nit's great then sometimes you put it in\\nyour backpack and it wakes up and then\\nyou take it out and it's burning hot and\\nyour battery's dead and everyone's very\\nsad it's been happening for like two\\nyears at this point just go to microsoft\\nand get very mad at them modern standby\\nit's awful\\nfortunately though this laptop has fast\\ncharging so they say they'll be able to\\nget four hours of battery life off of\\nhalf an hour of charging the\\nupgradeability is about what you expect\\nfor a laptop in this class and it looks\\nlike you cannot upgrade the ram so make\\nsure you get how much you want from the\\nfactory you can swap your wi-fi card\\nright there ssd is removable the battery\\nalso comes out and it looks like\\nunderneath that even the track pad can\\nbe removed which is very nice i am very\\nsurprised that this cooler is able to do\\n45 watts of cooling though like we saw\\nit do that it clearly can the thin pitch\\non these fans they are just\\nsuper duper small fins they did a really\\ngood job at even though they were kind\\nof on the loud side not being annoying\\nthat's like very key okay jake we need\\nto figure out the price point of this\\nlaptop having a look in here it's pretty\\nclear that the whole chassis was cnc\\nmachined like we can look in here that's\\nwhy it's so rigid that's why it feels\\namazing given the specs\\nand the screen and the chassis this\\nthing has to be very expensive you're\\nguessing 1400 this thing feels like 22 i\\nthink we'll have the actual price right\\nhere\\nif it's lower than 2 000 can we have\\nballoons\\nit's a good laptop i'm surprised how\\nmuch power they were able to cram into\\nsomething that's this small yeah if\\nyou're like a content creator video\\neditor like gamer it's a pretty\\nfantastic little machine i can't like\\nyou know thumbs up thumbs down it\\nbecause we don't know the price and it's\\nsponsored take from that what you wish\\nso huge thanks to lenovo for sponsoring\\nthis video if you guys want you can just\\nlike start sending us laptops you don't\\nneed to sponsor all of them this is just\\na good laptop anyway\\nbut yeah if you guys want to purchase it\\nlinks will be down below and just have a\\nfantastic day hit like get subscribed\\nso long\\n\", metadata={'source': 'transcripts\\\\9lVj_DZm36c.txt'}),\n",
       " Document(page_content=\"all right tech family today we're going\\nto find the best premium powerful\\n14-inch laptop that you can buy\\n14-inch laptops are my personal favorite\\nform factor they are the laptops that\\nare large enough to have powerful\\ncomponents inside and a display big\\nenough to get real work done yet they're\\nstill portable\\nlet me introduce you to the contenders\\nfirst the asus g14 for 2022 specs on\\nscreen\\nnext i've got the new yoga slim7 pro x\\nthe intel model there's also an amd\\nmodel available by the way and of course\\ni've got the macbook pro 14 and the\\nrazer blade 14 for 2022 which my good\\nfriends at b h sent me for review\\nas per usual this video isn't sponsored\\nand i'm not getting paid by any of these\\nmanufacturers\\nyou might notice one premium 14 inch\\nlaptop is missing dell's alienware x14\\nit just wasn't out in time when i\\nstarted testing these machines i'm not\\ngoing to go into every minute detail of\\nthese laptops it would be way too big a\\nvideo plus other reviewers have already\\ndone that instead i'm just going to talk\\nabout what it's like to own and use each\\nof these devices focusing on the things\\nthat i believe matter the most when\\nchoosing between them\\nand by the way i've used these a lot\\ni've edited videos for this channel on\\nthem i've played games on them i've done\\nwork on them you get the picture when it\\ncomes to the displays all these laptops\\nhave very good ones they are all high\\nresolution high refresh rate panels if i\\nhad to rate them the macbook pro 14 has\\nthe best all-round display and the most\\nuseful its bright high refresh rate mini\\nled panel allowed me to see more\\ninformation on screen than any other\\nlaptop you can see that demonstrated in\\nmy test of how many rows of excel i can\\nsee on screen without needing to squint\\nalso if you're like me and are worried\\nabout the notch prior to owning a\\nmacbook don't be\\nas i said in my long term review of this\\nlaptop you honestly just don't see it\\nafter a while i'll link that video down\\nbelow by the way next it's a tie between\\nthe asus g14 and the slim7x pro for\\ndifferent reasons the g14 is a joy to\\nlook at it is super bright with\\nexcellent color accuracy the fact that\\nit's matte non-reflective makes it look\\neven brighter than it is\\nthat being said i couldn't comfortably\\nsee nearly as much content as i could on\\nthe slim 7 pro x's larger 14.5 inch\\ndisplay the slim7 pro x has excellent\\ncontrast and a fast refresh rate panel\\nhowever it doesn't quite have the color\\naccuracy of the other displays nor does\\nit have the pop of an oled or mini led\\npanel\\nlast spot goes to the race at blade 14\\nits display is the dimmest of the bunch\\ni was regularly trying to hit the\\nbrightness up key in the hopes of\\ngetting more brightness out of it it's\\nalso the only one with a 16 by 9 aspect\\nratio so you see less information going\\ndown the screen\\nin my excel test i did see a couple more\\nrows of excel than on the g14 which is a\\nbit of a rounding error and is mainly\\ndue to the mapping of windows scaling\\nsettings to the pixel density of each\\ndisplay i found with the g14 in\\nparticular i was actually jumping\\nbetween the scaling shown on screen and\\none which made everything a bit smaller\\nand allowed me to see more information\\nthan the razer blade\\ni do feel razer missed the opportunity\\nto put a larger 16 by 10 aspect ratio\\nscreen in this laptop just look at all\\nthe wasted space where the bezel is\\nbelow the screen the keyboard is an\\noutright win for the g14 it is the most\\ncomfortable laptop keyboard i've ever\\nused next up is a type between the\\nmacbook pro 14 and the slim 7 pro x\\nboth of these have very comfortable\\nkeyboards but you can still feel that\\nthey are a little low travel which is\\nnot something you notice on the g14\\ndead last is the razer blade 14. i and\\nother reviewers have been saying this\\nfor years\\nthis keyboard feels uncomfortably low\\ntravel you really notice your fingers\\nhitting the bottom if you are okay with\\napple's panned low travel butterfly\\nkeyboards you will probably be okay with\\nthis\\nbut for most people the blades keyboard\\nsucks it's a pity as razer makes some\\nexcellent mechanical keyboards the\\ntrackpad surprising no one is a win for\\nthe macbook pro 14. it's the most\\naccurate the asus g14 is second it also\\nhas a very large and accurate trackpad\\nthe only reason it doesn't tie with the\\nmacbook pro 14 is because when you click\\nit in the bottom left and right corners\\nthe trackpad physically moves and your\\nclick becomes less accurate that's\\nbecause all these windows laptops have\\nmechanical track pads which move when\\nyou click them the mac is haptic and\\ndoesn't move it just feels like it's\\nmoving tying for third place for\\ndifferent reasons is the pro x and the\\nblade 14. the pro x just doesn't feel\\nquite as accurate as that of the g14 and\\nthe macbook pro 14. the razer on the\\nother hand although accurate is just\\nuncomfortable to click to register a\\nclick you have to press with too much\\nforce when it comes to the build quality\\nthe razer blade 14 and macbook pro 14\\nare just in a league of their own the\\nblade 14 in particular looks amazing\\ncompared to any other laptop i would\\nhave given it the outright win but the\\nblade 14 is a lot less durable the black\\nfinish chips easily my blade 15 chipped\\nand so did jared's blade 14. the macbook\\npro 14 on the other hand is incredibly\\ndurable i've smashed mine around and it\\nlooks brand new the g14 gets second\\nplace the white design laptop looks\\nreally cool even though it's a bit\\nchunky the slim7 pro x is last i have\\nboth the blue and silver color and they\\nlook nice enough but they just look like\\na standard laptop i won't read out every\\nspecific port these laptops have i'll\\njust show the manufacturer's pages while\\ni talk through the differences they all\\nhave good port selections with different\\npros and cons the macbook pro 14 and the\\npro x with intel both have fast\\nthunderbolt 4 ports none of the amd\\nlaptops do unfortunately\\nboth the blade 14 and macbook pro 14\\nhave charging capable ports on either\\nside of the laptop which is convenient\\nas you won't have to run a power cable\\naround the back if your outlet is on the\\nother side of the charging port the g14\\non the other hand has all its ports\\nplaced very forward on the laptop which\\nis annoying as it gets in the way\\nfor content creators the macbook pro 14\\nand g14 are the only ones with sd card\\nreaders the macbook pro has a full sized\\none and the g14 micro the macbook pro's\\ndownside though is that it has no legacy\\nusb a ports all the windows laptops do\\nso you'll need a dongle for that on the\\nmac portability the macbook pro 14 and\\nthe pro x are the lightest of the bunch\\nand the most comfortable size and weight\\nwise to have on your lap\\nthat being said i didn't find the g14 or\\nblade that bad they are all under about\\nfour pounds plus because they can all be\\ncharged with small lightweight usbc\\ncharges i didn't penalize the blade or\\ng14 for coming with beefier charging\\nbricks on the audio front the macbook\\npro 14 was just so much better than\\nthese other laptops it really is a shame\\nthat windows laptop makers just can't\\nget this together\\non the asus g14 and blade in particular\\ni regularly wanted more sound especially\\nwhen gaming when the fans are going\\nreally loud\\n[Laughter]\\nso\\n[Music]\\n[Music]\\nlet's talk performance please keep in\\nmind my macbook pro 14 has the lowest\\nend m1 chip in it of the three m1 pro\\nchips available we did throw in the more\\npowerful m1 pro 10 core cpu model from\\nanother reviewer for comparison\\ni do not recommend getting the m1 max\\nchip in the 14 inch macbook pro so i\\nhaven't included its scores here even\\nthough i've owned one i've explained why\\nin my long term review of that laptop\\nwhich i'll link below in geekbench which\\ntests a variety of common performance\\ntasks the macbook pro took the lead\\nfollowed closely by strong performance\\nfrom the slim 7 pro x no surprises as\\nthat laptop has a powerful h-series\\nintel 12-gen processor performance is\\nsignificantly lower for the blade 14 and\\nasus g14 as well as the lowest end\\nmacbook pro m1 although its single core\\nperformance is still exceptional by the\\nway if you see multiple performance bars\\nmentioned it's because the windows\\nlaptops all have multiple performance\\nmodes that you can run the laptop in i\\ntried the default mode plus several of\\nthe performance modes that i felt best\\nsuited the task at hand\\nlet's take a look at cinebench r23 which\\nmaxes out the cpu the blade 14 and asus\\ng14 just crushes it these are some\\nabsolutely incredible performance scores\\nthe slim 7 pro x and the macbook pro 14\\nwith the 10 core cpu aren't next and are\\nalso doing very well last place is the\\nm1 pro 8 core cpu\\nnow looking at a 10 minute torture test\\nrunning the cpu maxed out you can see\\nthat the mac maintains its performance\\nunfortunately i wasn't able to test this\\non the 10 core version but it wouldn't\\nsurprise me if it was the same result\\nthe amd laptops do drop a little in this\\ntest but the x pro with intel can't\\nmaintain its performance likely because\\nthe hot intel cpu can't be called\\non that note let's take a look at cpu\\ntemperatures during the torture test no\\nsurprise as the macbook pro did well but\\nthe one i'd really like to highlight is\\nthe razer blade 14's 84 degrees on the\\ndefault balance mode this is fantastic\\ngiven how well the laptop performed on\\nthat mode looking at power draw the\\nmacbook called by far the least amount\\nof power for the performance it gave i\\nalso really liked how little power the\\nblade put in in its balance mode for the\\nperformance it offered which during this\\ntest was around the same as the intel x\\npro yet you can see that the intel\\nlaptop required more power to do that\\nsurprisingly the blade performed a tad\\nbetter on that default balance mode than\\nthe g14 on its default mode and required\\nless power to do it\\non the intel laptop you can see the big\\ndrop in performance draw even on the\\nextreme performance mode we don't see\\nthat same level of drop on the amd\\ngaming laptops on their performance\\nmodes this is likely because the cooling\\nsolution in those laptops is far more\\nrobust than on the pro x onto gpu\\nperformance the g14 and the blade 14\\nboth come with a mux switch this enables\\nyou to get more performance out of the\\ndedicated graphics by not sending the\\nsignal via the integrated graphics it\\ngoes directly to the display\\nin this mode the dedicated graphics are\\nalways running and will chew a lot more\\nbattery i tested these laptops with both\\nsettings default mode with the\\nintegrated graphics and then on their\\nhighest performance mode running\\ndirectly from the dedicated graphics the\\nblade 14 just crushed it my g14 with the\\n6700 is about 16 slower than the blade\\n14 with a 30 70 ti in time spy that is\\nand 13 slower in fire strike\\nthe x pro with its 30 50 you can see\\nreally isn't going to come close to\\nthese gaming laptops however it did\\nperform better than my 3050 ti in my\\nacer swift x which for a 30 50 is great\\nin the puget premiere pro benchmark for\\nvideo editing you can see the macbook\\nannihilates the competition and as i\\nsaid this is the lowest end m1 pro cpu\\nthe x-pro here does very well as some\\napplications like premiere pro perform\\nsubstantially better often intel cpu\\nwhen it comes to heat you feel when the\\nlaptop is under full load the one that\\nsticks out like a sore thumb is the slim\\n7 pro x with the intel chip it feels\\nvery hot you absolutely would not want\\nto be doing any performance tasks with\\nthis on your lap even using it on a desk\\nit feels noticeably very warm switching\\nto fan noise you hear when the laptop is\\ndoing high performance tasks the macbook\\npro 14 is substantially quieter than the\\nother laptops the blade and g14 are\\npretty decent in their default\\nperformance modes but are ludicrously\\nloud in their highest performance modes\\nhonestly folks i really would think\\ntwice about running these in their high\\nperformance modes\\ni don't think the marginal performance\\nbenefit outweighs the cons of a massive\\nincrease in fan noise unfortunately the\\nslim 7 pro x with intel is pretty loud\\nin any mode you run it in for\\nlightweight tasks such as browsing the\\nweb and doing office work the macbook\\npro 14 was dead silent and remained\\ntotally cool to the touch the g14 was\\nthe next best it was pretty quiet but at\\ntimes in a quiet room you could hear the\\nfan spin up a little it was a bit warm\\nto the touch too by the way the blade 14\\nwas somewhat similar i found the fan\\nspan up a little more frequently than\\nthe g14 but given the hardware inside i\\nwas pleasantly surprised it was also\\nnoticeably warm to the touch too but not\\ntoo uncomfortable the slim7 pro x on the\\nother hand was unfortunately not good\\nhere at all for lightweight use i\\nregularly heard distracting fan noise\\nand it was noticeably warm to the touch\\ni'm personally sensitive to fan noise\\nand i found i used the pro x the least\\nof any of these laptops due to this\\nissue if i was to sum up performance\\nheat and fan noise the macbook pro\\noffered the most performance for minimal\\nheat and fan noise and excellent\\nperformance in video editing tasks the\\nblade 14 though was the all-round high\\nperformance winner i was very pleasantly\\nsurprised how well it did the asus g14\\nperformed well but didn't reach the\\nheights of the blade both those gaming\\nlaptops by the way had a fair amount of\\nfan noise on balance mode and got a bit\\nwarm to the touch but nothing too brutal\\nthe slim 7 pro x with intel although it\\nperformed well i found the fan noise and\\nheat not something i personally want to\\ndeal with\\nbattery life is an outright disaster for\\nthe pc laptops i set all to their best\\npossible battery modes for the razer and\\ng14 that included ensuring that the\\ngraphics were running off their lower\\npowered integrated gpus i then turned\\nall displays three notches down in\\nbrightness and ran a netflix movie on\\nrepeat over wi-fi for four hours\\nstraight i checked the laptops regularly\\nas the battery drained\\nthe razer laptop died at around 2 hours\\nand 40 minutes this is absolutely\\nterrible and made worse because razer\\nactually drops the performance of the\\nlaptop a ton when on battery the slim 7\\npro x died at around the 3 hour and 40\\nminute mark after 4 hours the g14 had 30\\nleft and the macbook pro 14 was just\\nlaughing at the carnage around it with a\\nwhopping 70 left what's even more\\nembarrassing for the pc laptops is that\\nthe macbook pros display was by far the\\nbrightest when turndown 3 notches note\\nyou'll get longer battery runtimes if\\nyou turn down the display's brightness\\nfurther here's the webcam of the asus\\ng14 in the best possible lighting\\nconditions here's the webcam of the yoga\\nslim7 pro x in excellent lighting\\nconditions and by the way it's the only\\none where i can hear the fan going while\\ni'm doing this test\\nnow here's the webcam of the race of\\nlate 14 in the best possible lighting\\nconditions now here's the macbook pro\\n14's webcam in the best possible\\nlighting conditions let's talk about\\npricing as i wrap and go through who\\nshould buy each of these laptops the\\nmacbook pro 14 i feel is the best laptop\\nof the four so long as you aren't\\nplanning to do aaa gaming are okay with\\nusing mac os and can afford it for the\\nmodels i recommend with the m1 pro chip\\nit can regularly be had on sale for\\n1800-2250\\ndollars which for the quality of machine\\nyou are getting i think is fair\\nsince a lot of programmers watch this\\nchannel as someone who has been a\\nprofessional programmer for 13 years the\\nmacbook pro 14 is the dream programming\\nlaptop that's the one you should buy\\nsame goes for video editors by the way\\nif you are a aaa gamer the asus g14 is\\nthe one i'd get it starts at about one\\nand a half thousand us dollars for the\\nradeon 6700 model with 16 gig of ram and\\nit goes up to about two and a half\\nthousand dollars for the 6800 model with\\n32 gig of ram\\ni think the 1500 model offers tremendous\\nvalue\\neven though its graphics and performance\\nare worse than the blade 14 because of\\nits better keyboard and screen i\\nactually found the g14 a more enjoyable\\ngaming experience than having the extra\\nframes on the blade 14. speaking of the\\nblade 14 it's a niche device if you're\\nmainly going to have it plugged into an\\nexternal monitor keyboard and mouse and\\nyou want a gorgeous looking very\\npowerful laptop then it could be the one\\nfor you using it like this will negate\\nsome of its downsides that so long as\\nyou can of course afford it my coffee\\ncosts 2 600 us dollars which is\\nexpensive there is a cheaper two\\nthousand dollar model but you are\\ndropping to a full hd screen and an rtx\\n3060. the higher end razer model at 3\\n500 is disgraceful it only comes with 16\\ngig of ram which you can't upgrade given\\nthe 16 gig of ram limit on the blade 14\\ni really think you should only consider\\nit if you are just gaming for other high\\nperformance tasks like video editing the\\ncomponents in this laptop would be\\nbetter paired with 32 gig of ram when it\\ncomes to the slim7 pro x i think the\\nintel version which starts at 1 700 us\\ndollars is too expensive if you can save\\nthe extra dollars you should get the\\nmacbook pro 14 it's a much better\\nmachine the only reason to choose the\\npro x over it is if you're gaming and\\nyou want that nvidia 3050 or absolutely\\ndon't want mac os but even then the asus\\ng14 i think is a better choice if you\\ncan handle the slightly decreased\\nportability now the amd version of the\\npro x on the other hand is more recently\\npriced at one thousand five hundred\\ndollars\\nat the end of this video my team and i\\nwere left saying we wish we had that\\nmodel if that runs quieter than the\\nintel one as amd processors tend to i\\ncan see it being a viable choice\\nparticularly for programmers who can't\\nafford or don't want a macbook pro 14.\\neven then though you should still\\nconsider the g14 or if you want\\nsomething more portable i'd honestly\\ntake a look at lenovo's own slim7 pro\\nfrom last year also known as the yoga\\n14s it still has a powerful cpu and i\\nfound it ran noticeably cooler and\\nquieter at least in the intel version of\\nthe pro x the slim 7 pro is also cheaper\\nits major downsides versus the pro x is\\nthat its keyboard isn't quite as\\ncomfortable and its graphics aren't as\\ngood before i go i do want to say this\\nif i was buying a portable powerful\\npremium windows laptop i personally\\nwould strongly consider the legion slim\\n7. in fact that's what i own\\nyes it's a 15 inch laptop but it's a\\npretty portable one and honestly it's\\nmore comfortable to use than these other\\nwindows laptops that's because it runs\\ncooler to the touch and quieter plus it\\nstill comes with a powerful amd\\nprocessor inside as well as an nvidia\\nrtx 3060 it has a very comfortable\\nkeyboard good trackpad and an excellent\\ngorgeous 4k screen and check out the\\npricing 2 000 us dollars for a model\\nwith 32 gig of ram and 2 terabytes of\\nssd storage well that's all for today\\nfolks if you like this video you know\\nwhat to do smash that like button and\\nget subscribed not only does it show\\nyour appreciation for the insane amount\\nof effort that goes into making these\\nbut as i always say it makes my mother\\nvery proud till next time go do\\nsomething awesome with your day and i\\nwill catch you later\\n\", metadata={'source': 'transcripts\\\\ZUN3AFNiEgc.txt'})]"
      ]
     },
     "execution_count": 3,
     "metadata": {},
     "output_type": "execute_result"
    }
   ],
   "source": [
    "loader = DirectoryLoader(path='./', glob = \"**/*.txt\", loader_cls=TextLoader,\n",
    "                         show_progress=True)\n",
    "docs = loader.load()\n",
    "docs"
   ]
  },
  {
   "cell_type": "code",
   "execution_count": 4,
   "metadata": {},
   "outputs": [
    {
     "name": "stderr",
     "output_type": "stream",
     "text": [
      "c:\\Users\\ANT-PC\\anaconda3\\envs\\langchain\\Lib\\site-packages\\tqdm\\auto.py:21: TqdmWarning: IProgress not found. Please update jupyter and ipywidgets. See https://ipywidgets.readthedocs.io/en/stable/user_install.html\n",
      "  from .autonotebook import tqdm as notebook_tqdm\n"
     ]
    }
   ],
   "source": [
    "embeddings = HuggingFaceEmbeddings(model_name=\"all-MiniLM-L6-v2\")\n"
   ]
  },
  {
   "cell_type": "code",
   "execution_count": 5,
   "metadata": {},
   "outputs": [
    {
     "name": "stderr",
     "output_type": "stream",
     "text": [
      "100%|██████████| 3/3 [00:00<00:00, 1456.36it/s]\n"
     ]
    }
   ],
   "source": [
    "index = VectorstoreIndexCreator(embedding=embeddings).from_loaders([loader])\n",
    "retriever = index.vectorstore.as_retriever(search_kwargs=dict(k=5))\n",
    "memory = VectorStoreRetrieverMemory(retriever=retriever)\n"
   ]
  },
  {
   "cell_type": "code",
   "execution_count": null,
   "metadata": {},
   "outputs": [
    {
     "name": "stdout",
     "output_type": "stream",
     "text": [
      "Found model file.\n"
     ]
    }
   ],
   "source": [
    "\n",
    "llm = GPT4All(model=\"./ggml-mpt-7b-chat.bin\")"
   ]
  },
  {
   "cell_type": "code",
   "execution_count": 40,
   "metadata": {},
   "outputs": [],
   "source": [
    "llm(\"Justin Bieber\")"
   ]
  },
  {
   "cell_type": "code",
   "execution_count": 7,
   "metadata": {},
   "outputs": [],
   "source": [
    "# index.query(\"what laptop is the best\", llm = llm)"
   ]
  },
  {
   "cell_type": "code",
   "execution_count": 8,
   "metadata": {},
   "outputs": [],
   "source": [
    "# llm(\"Q: how are you A:\")"
   ]
  },
  {
   "cell_type": "code",
   "execution_count": 26,
   "metadata": {},
   "outputs": [],
   "source": [
    "# _DEFAULT_TEMPLATE = \"\"\"The following is a friendly conversation between a human and an AI. The AI is talkative and provides lots of specific details from its context. If the AI does not know the answer to a question, it truthfully says it does not know.\n",
    "# Do not make up answers and provide only information that you have.\n",
    "# Relevant pieces of previous conversation:\n",
    "# {history}\n",
    "\n",
    "# (You do not need to use these pieces of information if not relevant)\n",
    "\n",
    "# Current conversation:\n",
    "# Human: {input}\n",
    "# AI:\"\"\"\n",
    "\n",
    "_DEFAULT_TEMPLATE = \"\"\"{history}{input}\"\"\"\n",
    "PROMPT = PromptTemplate(\n",
    "    input_variables=[ \"history\", \"input\"], template=_DEFAULT_TEMPLATE\n",
    ")\n"
   ]
  },
  {
   "cell_type": "code",
   "execution_count": 27,
   "metadata": {},
   "outputs": [
    {
     "name": "stdout",
     "output_type": "stream",
     "text": [
      " | Justina Biëgger (born March 20th 1984) known asKeyword Analysis & Research: when was justin bieber bornjustin biebers song list 1.45 0.6 763 36Justine Biebs, Justin Beiber or JB for short is a Canadian singer and actor of German-Dutch ancestry He became popular after uploading several music videos on YouTube in 2007 under the name \"Justice Crew\" In 2011 he released his first solo album My World 2 which debuted at number one worldwide The following yearJustin Bieber was born Justin Drew Biebers birth certificate lists him as being married to Hailey Rhode berry. According t... Search for: Trending Now.... when they were just kids, and now he is famous with millions of fans around the world! He loves singing so much that even while in school or college (he dropped out)Justin Bieber was born on March 1st 1994 at St Joseph Hospital in London Ontario Canada. His mother Pattie Mallette met Justin's father Jeremy Jacks when he visited her workplace as a construction worker and the couple started dating soon after Meeting each other, they had an intimate relationship before getting married just months laterJust\n"
     ]
    },
    {
     "data": {
      "text/plain": [
       "' | Justina Biëgger (born March 20th 1984) known asKeyword Analysis & Research: when was justin bieber bornjustin biebers song list 1.45 0.6 763 36Justine Biebs, Justin Beiber or JB for short is a Canadian singer and actor of German-Dutch ancestry He became popular after uploading several music videos on YouTube in 2007 under the name \"Justice Crew\" In 2011 he released his first solo album My World 2 which debuted at number one worldwide The following yearJustin Bieber was born Justin Drew Biebers birth certificate lists him as being married to Hailey Rhode berry. According t... Search for: Trending Now.... when they were just kids, and now he is famous with millions of fans around the world! He loves singing so much that even while in school or college (he dropped out)Justin Bieber was born on March 1st 1994 at St Joseph Hospital in London Ontario Canada. His mother Pattie Mallette met Justin\\'s father Jeremy Jacks when he visited her workplace as a construction worker and the couple started dating soon after Meeting each other, they had an intimate relationship before getting married just months laterJust'"
      ]
     },
     "execution_count": 27,
     "metadata": {},
     "output_type": "execute_result"
    }
   ],
   "source": [
    "conversation_with_summary = ConversationChain(\n",
    "    llm=llm, \n",
    "    prompt=PROMPT,\n",
    "    # We set a very low max_token_limit for the purposes of testing.\n",
    "    # memory=memory,\n",
    ")\n",
    "\n",
    "conversation_with_summary.predict(input = \"when was justin bieber born\")"
   ]
  },
  {
   "cell_type": "code",
   "execution_count": 11,
   "metadata": {},
   "outputs": [
    {
     "data": {
      "text/plain": [
       "True"
      ]
     },
     "execution_count": 11,
     "metadata": {},
     "output_type": "execute_result"
    }
   ],
   "source": [
    "import torch\n",
    "torch.cuda.is_available()"
   ]
  }
 ],
 "metadata": {
  "kernelspec": {
   "display_name": "langchain",
   "language": "python",
   "name": "python3"
  },
  "language_info": {
   "codemirror_mode": {
    "name": "ipython",
    "version": 3
   },
   "file_extension": ".py",
   "mimetype": "text/x-python",
   "name": "python",
   "nbconvert_exporter": "python",
   "pygments_lexer": "ipython3",
   "version": "3.11.3"
  },
  "orig_nbformat": 4
 },
 "nbformat": 4,
 "nbformat_minor": 2
}
